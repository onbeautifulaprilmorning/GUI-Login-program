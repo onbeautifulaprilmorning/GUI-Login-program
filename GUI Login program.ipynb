{
  "nbformat": 4,
  "nbformat_minor": 0,
  "metadata": {
    "colab": {
      "name": "(final)H.W #4: id, password를 입력받아 로그인을 허락허거나 거부하는 GUI 시스템.ipynb",
      "version": "0.3.2",
      "provenance": [],
      "collapsed_sections": []
    },
    "kernelspec": {
      "name": "python3",
      "display_name": "Python 3"
    }
  },
  "cells": [
    {
      "metadata": {
        "id": "rJ3teqgmVS1y",
        "colab_type": "code",
        "colab": {}
      },
      "cell_type": "code",
      "source": [
        "from tkinter import *\n",
        "import hashlib\n",
        "\n",
        "########################################################################################\n",
        "########################################################################################\n",
        "\n",
        "Dic = {}\n",
        "_names = ['james', 'tommy', 'john', 'ketty' ,'harry']\n",
        "_password = ['newqlkjnskd', 'qwnd2ndiwnad', 'dnwandj2s', 'ndwnjnas3', 'ke2i1jos']\n",
        "for i in range(len(_names)):\n",
        "  _password[i] = _password[i].encode('utf-8')\n",
        "  hash_object = hashlib.sha256(_password[i])\n",
        "  Dic[_names[i]] = hash_object.hexdigest()\n",
        "\n",
        "########################################################################################\n",
        "########################################################################################\n",
        "\n",
        "def login():\n",
        "    f = entryVar2.get()\n",
        "    f = f.encode('utf-8')\n",
        "    hash_object = hashlib.sha256(f)\n",
        "    if Dic[entryVar1.get()] == hash_object.hexdigest():\n",
        "        d = Label(gui, text=\"succes\").grid(row=2, columnspan=5)\n",
        "        print(entryVar1.get(), entryVar2.get(), hash_object.hexdigest())\n",
        "    else:\n",
        "        d = Label(gui, text=\"fail\").grid(row=2, columnspan=5)\n",
        "        print(entryVar1.get(), entryVar2.get(), hash_object.hexdigest())\n",
        "\n",
        "########################################################################################\n",
        "########################################################################################\n",
        "\n",
        "gui = Tk()\n",
        "gui.geometry(\"400x400\")\n",
        "# make sure first is capital and second is not\n",
        "gui.title(\"First title\")\n",
        "\n",
        "a = Label(gui ,text=\"username\").grid(row=0,column = 0)\n",
        "b = Label(gui, text=\"password\").grid(row=1,column=0)\n",
        "c = Label(gui, text=\"\").grid(row=2, columnspan = 5)\n",
        "\n",
        "entryVar1 = StringVar(value=\"\")\n",
        "entryVar2 = StringVar(value=\"\")\n",
        "e = Entry(gui,textvariable=entryVar1).grid(row=0,column=1)\n",
        "f = Entry(gui, show=\"*\", textvariable=entryVar2).grid(row=1,column=1)\n",
        "\n",
        "c = Button(gui,text=\"LOGIN\", command = login).grid(row=2,column=0)\n",
        "\n",
        "########################################################################################\n",
        "########################################################################################\n",
        "\n",
        "gui.mainloop()"
      ],
      "execution_count": 0,
      "outputs": []
    }
  ]
}